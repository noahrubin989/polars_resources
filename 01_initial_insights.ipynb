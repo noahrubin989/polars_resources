{
 "cells": [
  {
   "cell_type": "code",
   "execution_count": 1,
   "metadata": {},
   "outputs": [],
   "source": [
    "# !pip install polars"
   ]
  },
  {
   "cell_type": "code",
   "execution_count": 2,
   "metadata": {},
   "outputs": [],
   "source": [
    "import polars as pl"
   ]
  },
  {
   "cell_type": "code",
   "execution_count": 3,
   "metadata": {},
   "outputs": [
    {
     "data": {
      "text/plain": [
       "'0.16.8'"
      ]
     },
     "execution_count": 3,
     "metadata": {},
     "output_type": "execute_result"
    }
   ],
   "source": [
    "pl.__version__"
   ]
  },
  {
   "cell_type": "markdown",
   "metadata": {},
   "source": [
    "## Read in Data"
   ]
  },
  {
   "cell_type": "code",
   "execution_count": 5,
   "metadata": {},
   "outputs": [],
   "source": [
    "data = pl.read_csv('https://raw.githubusercontent.com/noahrubin989/datasets/main/athletics/athlete_records.csv')"
   ]
  },
  {
   "cell_type": "markdown",
   "metadata": {},
   "source": [
    "## Initial Insights"
   ]
  },
  {
   "cell_type": "code",
   "execution_count": 7,
   "metadata": {},
   "outputs": [
    {
     "data": {
      "text/html": [
       "<div>\n",
       "<style>\n",
       ".pl-dataframe > thead > tr > th {\n",
       "  text-align: right;\n",
       "}\n",
       "</style>\n",
       "\n",
       "<table border=\"1\" class=\"dataframe pl-dataframe\">\n",
       "<small>shape: (3, 10)</small>\n",
       "<thead>\n",
       "<tr>\n",
       "<th>\n",
       "Event\n",
       "</th>\n",
       "<th>\n",
       "Perf.\n",
       "</th>\n",
       "<th>\n",
       "mph\n",
       "</th>\n",
       "<th>\n",
       "km/h\n",
       "</th>\n",
       "<th>\n",
       "Athlete(s)\n",
       "</th>\n",
       "<th>\n",
       "Athlete_Nationality\n",
       "</th>\n",
       "<th>\n",
       "Date\n",
       "</th>\n",
       "<th>\n",
       "Meeting\n",
       "</th>\n",
       "<th>\n",
       "Location\n",
       "</th>\n",
       "<th>\n",
       "Country\n",
       "</th>\n",
       "</tr>\n",
       "<tr>\n",
       "<td>\n",
       "str\n",
       "</td>\n",
       "<td>\n",
       "str\n",
       "</td>\n",
       "<td>\n",
       "f64\n",
       "</td>\n",
       "<td>\n",
       "f64\n",
       "</td>\n",
       "<td>\n",
       "str\n",
       "</td>\n",
       "<td>\n",
       "str\n",
       "</td>\n",
       "<td>\n",
       "str\n",
       "</td>\n",
       "<td>\n",
       "str\n",
       "</td>\n",
       "<td>\n",
       "str\n",
       "</td>\n",
       "<td>\n",
       "str\n",
       "</td>\n",
       "</tr>\n",
       "</thead>\n",
       "<tbody>\n",
       "<tr>\n",
       "<td>\n",
       "&quot;100 m&quot;\n",
       "</td>\n",
       "<td>\n",
       "&quot;9.58&quot;\n",
       "</td>\n",
       "<td>\n",
       "23.35\n",
       "</td>\n",
       "<td>\n",
       "37.58\n",
       "</td>\n",
       "<td>\n",
       "&quot;Usain Bolt&quot;\n",
       "</td>\n",
       "<td>\n",
       "&quot;JAM&quot;\n",
       "</td>\n",
       "<td>\n",
       "&quot;16 Aug 2009&quot;\n",
       "</td>\n",
       "<td>\n",
       "&quot;World Champion...\n",
       "</td>\n",
       "<td>\n",
       "&quot;Berlin&quot;\n",
       "</td>\n",
       "<td>\n",
       "&quot;GER&quot;\n",
       "</td>\n",
       "</tr>\n",
       "<tr>\n",
       "<td>\n",
       "&quot;200 m&quot;\n",
       "</td>\n",
       "<td>\n",
       "&quot;19.19&quot;\n",
       "</td>\n",
       "<td>\n",
       "23.31\n",
       "</td>\n",
       "<td>\n",
       "37.52\n",
       "</td>\n",
       "<td>\n",
       "&quot;Usain Bolt&quot;\n",
       "</td>\n",
       "<td>\n",
       "&quot;JAM&quot;\n",
       "</td>\n",
       "<td>\n",
       "&quot;20 Aug 2009&quot;\n",
       "</td>\n",
       "<td>\n",
       "&quot;World Champion...\n",
       "</td>\n",
       "<td>\n",
       "&quot;Berlin&quot;\n",
       "</td>\n",
       "<td>\n",
       "&quot;GER&quot;\n",
       "</td>\n",
       "</tr>\n",
       "<tr>\n",
       "<td>\n",
       "&quot;400 m&quot;\n",
       "</td>\n",
       "<td>\n",
       "&quot;43.03&quot;\n",
       "</td>\n",
       "<td>\n",
       "20.79\n",
       "</td>\n",
       "<td>\n",
       "33.47\n",
       "</td>\n",
       "<td>\n",
       "&quot;Wayde van Niek...\n",
       "</td>\n",
       "<td>\n",
       "&quot;RSA&quot;\n",
       "</td>\n",
       "<td>\n",
       "&quot;14 Aug 2016&quot;\n",
       "</td>\n",
       "<td>\n",
       "&quot;Olympic Games&quot;\n",
       "</td>\n",
       "<td>\n",
       "&quot;Rio de Janeiro...\n",
       "</td>\n",
       "<td>\n",
       "&quot;BRA&quot;\n",
       "</td>\n",
       "</tr>\n",
       "</tbody>\n",
       "</table>\n",
       "</div>"
      ],
      "text/plain": [
       "shape: (3, 10)\n",
       "┌───────┬───────┬───────┬───────┬─────┬─────────────┬───────────────┬────────────────┬─────────┐\n",
       "│ Event ┆ Perf. ┆ mph   ┆ km/h  ┆ ... ┆ Date        ┆ Meeting       ┆ Location       ┆ Country │\n",
       "│ ---   ┆ ---   ┆ ---   ┆ ---   ┆     ┆ ---         ┆ ---           ┆ ---            ┆ ---     │\n",
       "│ str   ┆ str   ┆ f64   ┆ f64   ┆     ┆ str         ┆ str           ┆ str            ┆ str     │\n",
       "╞═══════╪═══════╪═══════╪═══════╪═════╪═════════════╪═══════════════╪════════════════╪═════════╡\n",
       "│ 100 m ┆ 9.58  ┆ 23.35 ┆ 37.58 ┆ ... ┆ 16 Aug 2009 ┆ World         ┆ Berlin         ┆ GER     │\n",
       "│       ┆       ┆       ┆       ┆     ┆             ┆ Championships ┆                ┆         │\n",
       "│ 200 m ┆ 19.19 ┆ 23.31 ┆ 37.52 ┆ ... ┆ 20 Aug 2009 ┆ World         ┆ Berlin         ┆ GER     │\n",
       "│       ┆       ┆       ┆       ┆     ┆             ┆ Championships ┆                ┆         │\n",
       "│ 400 m ┆ 43.03 ┆ 20.79 ┆ 33.47 ┆ ... ┆ 14 Aug 2016 ┆ Olympic Games ┆ Rio de Janeiro ┆ BRA     │\n",
       "└───────┴───────┴───────┴───────┴─────┴─────────────┴───────────────┴────────────────┴─────────┘"
      ]
     },
     "execution_count": 7,
     "metadata": {},
     "output_type": "execute_result"
    }
   ],
   "source": [
    "data.head(3)"
   ]
  },
  {
   "cell_type": "code",
   "execution_count": 8,
   "metadata": {},
   "outputs": [
    {
     "data": {
      "text/plain": [
       "(47, 10)"
      ]
     },
     "execution_count": 8,
     "metadata": {},
     "output_type": "execute_result"
    }
   ],
   "source": [
    "data.shape"
   ]
  },
  {
   "cell_type": "code",
   "execution_count": 9,
   "metadata": {},
   "outputs": [
    {
     "name": "stdout",
     "output_type": "stream",
     "text": [
      "Rows: 47\n",
      "Columns: 10\n",
      "$ Event               <str> 100 m, 200 m, 400 m, 800 m, 1000 m, 1500 m, Mile, 2000 m, 3000 m, 5000 m\n",
      "$ Perf.               <str> 9.58, 19.19, 43.03, 1:40.91, 2:11.96, 3:26.00, 3:43.13, 4:44.79, 7:20.67, 12:35.36\n",
      "$ mph                 <f64> 23.35, 23.31, 20.79, 17.734, 16.952, 16.288, 16.134, 15.709, 15.229, 14.807\n",
      "$ km/h                <f64> 37.58, 37.52, 33.47, 28.54, 27.281, 26.214, 25.965, 25.282, 24.508, 23.83\n",
      "$ Athlete(s)          <str> Usain Bolt, Usain Bolt, Wayde van Niekerk, David Rudisha, Noah Ngeny, Hicham El Guerrouj, Hicham El Guerrouj, Hicham El Guerrouj, Daniel Komen, Joshua Cheptegei\n",
      "$ Athlete_Nationality <str> JAM, JAM, RSA, KEN, KEN, MAR, MAR, MAR, KEN, UGA\n",
      "$ Date                <str> 16 Aug 2009, 20 Aug 2009, 14 Aug 2016, 9 Aug 2012, 5 Sep 1999, 14 Jul 1998, 7 Jul 1999, 7 Sep 1999, 1 Sep 1996, 14 Aug 2020\n",
      "$ Meeting             <str> World Championships, World Championships, Olympic Games, Olympic Games, Rieti Meeting, Golden Gala, Golden Gala, ISTAF, Rieti Meeting, Herculis\n",
      "$ Location            <str> Berlin, Berlin, Rio de Janeiro, London, Rieti, Rome, Rome, Berlin, Rieti, Monaco\n",
      "$ Country             <str> GER, GER, BRA, GBR, ITA, ITA, ITA, GER, ITA, MON\n",
      "\n"
     ]
    }
   ],
   "source": [
    "data.glimpse()"
   ]
  },
  {
   "cell_type": "code",
   "execution_count": 10,
   "metadata": {},
   "outputs": [
    {
     "data": {
      "text/plain": [
       "['Event',\n",
       " 'Perf.',\n",
       " 'mph',\n",
       " 'km/h',\n",
       " 'Athlete(s)',\n",
       " 'Athlete_Nationality',\n",
       " 'Date',\n",
       " 'Meeting',\n",
       " 'Location',\n",
       " 'Country']"
      ]
     },
     "execution_count": 10,
     "metadata": {},
     "output_type": "execute_result"
    }
   ],
   "source": [
    "data.columns"
   ]
  },
  {
   "cell_type": "code",
   "execution_count": 11,
   "metadata": {},
   "outputs": [
    {
     "data": {
      "text/plain": [
       "[Utf8, Utf8, Float64, Float64, Utf8, Utf8, Utf8, Utf8, Utf8, Utf8]"
      ]
     },
     "execution_count": 11,
     "metadata": {},
     "output_type": "execute_result"
    }
   ],
   "source": [
    "data.dtypes"
   ]
  },
  {
   "cell_type": "markdown",
   "metadata": {},
   "source": [
    "## Why Do Some Commands Have Brackets and Others Don’t?\n",
    "\n",
    "It comes down to the idea of attributes vs methods"
   ]
  },
  {
   "cell_type": "markdown",
   "metadata": {},
   "source": [
    "## DataFrame vs Series"
   ]
  },
  {
   "cell_type": "code",
   "execution_count": 12,
   "metadata": {},
   "outputs": [
    {
     "data": {
      "text/plain": [
       "polars.internals.dataframe.frame.DataFrame"
      ]
     },
     "execution_count": 12,
     "metadata": {},
     "output_type": "execute_result"
    }
   ],
   "source": [
    "type(data)"
   ]
  },
  {
   "cell_type": "code",
   "execution_count": 14,
   "metadata": {},
   "outputs": [
    {
     "data": {
      "text/plain": [
       "polars.internals.series.series.Series"
      ]
     },
     "execution_count": 14,
     "metadata": {},
     "output_type": "execute_result"
    }
   ],
   "source": [
    "type(data['Athlete_Nationality'])"
   ]
  },
  {
   "cell_type": "code",
   "execution_count": null,
   "metadata": {},
   "outputs": [],
   "source": []
  }
 ],
 "metadata": {
  "kernelspec": {
   "display_name": "Python 3 (ipykernel)",
   "language": "python",
   "name": "python3"
  },
  "language_info": {
   "codemirror_mode": {
    "name": "ipython",
    "version": 3
   },
   "file_extension": ".py",
   "mimetype": "text/x-python",
   "name": "python",
   "nbconvert_exporter": "python",
   "pygments_lexer": "ipython3",
   "version": "3.10.2"
  },
  "vscode": {
   "interpreter": {
    "hash": "aee8b7b246df8f9039afb4144a1f6fd8d2ca17a180786b69acc140d282b71a49"
   }
  }
 },
 "nbformat": 4,
 "nbformat_minor": 2
}
